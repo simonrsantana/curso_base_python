{
 "cells": [
  {
   "cell_type": "markdown",
   "metadata": {},
   "source": [
    "# PROYECTO: Predicción de las conversiones de usuarios web"
   ]
  },
  {
   "cell_type": "markdown",
   "metadata": {},
   "source": [
    "#### Apliquemos los conocimientos adquiridos durante estas sesiones en un problema aplicado concreto: la predicción del comportamiento de usuarios en una web donde estamos interesados en que los usuarios lleven a cabo una acción concreta (**conversión**)"
   ]
  },
  {
   "cell_type": "markdown",
   "metadata": {},
   "source": [
    "Tenemos un dataset acerca de usuarios con acceso a una web. Estos usuarios pueden elegir hacer una \"conversión\" o no, lo cual puede significar cosas distintas dependiendo del contexto (una conversión puede ser que estos usuarios añaden al carrito cierto objeto, que hacen _click_ en un anuncio o incluso que compran algo en lo que estamos interesados). Sobre estos usuarios tenemos algo de información: características personales como su país, vía de acceso a la web, edad, si alguien es un nuevo usuario o no, el total de páginas de interés visitadas (que puede servirnos de _proxy_ para evaluar cuánto tiempo han estado navegando en la web) y, finalmente, si han llevado a cabo la conversión o no. \n",
    "\n",
    "**Nuestro principal objetivo sería, dado un cierto usuario, predecir la probabilidad de que realice la conversión**\n",
    "\n",
    "Los datos están incluidos en el dataset `data/conversion_data.csv`. Cada fila ahí representa una sesión de un usuario, y cada columna es una variable de interés. Tendremos lo siguiente:\n",
    "\n",
    "* `country` : país del usuario (obtenido de su dirección IP).\n",
    "* `age` : edad del usuario (proporcionada por el usuario al entrar en la web).\n",
    "* `new_user` : variable booleana indicando si el usuario es una cuenta nueva recién creada (`1`) o si simplemente es una cuenta existente y está volviendo a consultar la página (`0`).\n",
    "* `source` : origen del usuario\n",
    "    * Ads: han llegado haciendo click a través de un anuncio.\n",
    "    * Seo: han llegado a través de un motor de búsqueda.\n",
    "    * Direct: acceso directo a través de la URL en el navegador.\n",
    "* `total_pages_visited` : número total de páginas visitadas en la sesión (es un proxy sobre cuánto tiempo ha empleado el usuario en el servicio).\n",
    "* `converted`: **Esta variable será nuestro objetivo**. `1` indica que el usuario realizó la conversión, mientras que `0` indica lo contrario."
   ]
  },
  {
   "cell_type": "markdown",
   "metadata": {},
   "source": [
    "### Preguntas\n",
    "\n",
    "_Para las cuestiones 1-6 puedes eliminar los datos ausentes del dataframe usando `(nombre de tu dataframe).dropna(inplace=True)`. Te recomiendo que, cuando leas los datos en un dataframe, crees una copia de los mismos donde elimines las filas con datos ausentes con el comando anterior, y después resuelvas las primeras 6 cuestiones con esta copia editada._"
   ]
  },
  {
   "cell_type": "markdown",
   "metadata": {},
   "source": [
    "#### Cuestión 1\n",
    "\n",
    "Lee el archivo `data/conversion_data.csv` a un dataframe de pandas y estudia sus columnas. Responde la siguientes preguntas:\n",
    "* ¿Cuántas sesiones de usuario tenemos disponibles?\n",
    "* ¿Qué columnas tienen datos numéricos? ¿Y categóricos?  \n",
    "* ¿De qué países provienen los usuarios?\n",
    "* ¿Cuál es el método más habitual de entrada a la página web?\n",
    "* ¿Cuántos usuarios son nuevos, y cuántos tenían sesión anteriormente?"
   ]
  },
  {
   "cell_type": "code",
   "execution_count": null,
   "metadata": {},
   "outputs": [],
   "source": [
    "'''\n",
    "Tu código va aquí\n",
    "'''"
   ]
  },
  {
   "cell_type": "markdown",
   "metadata": {},
   "source": [
    "#### Cuestión 2\n",
    "\n",
    "Estudiemos algunas poblaciones de usuarios separadamente. Primero, fijémonos en las edades entre ellos: ¿Hay una edad mínima? ¿Y una edad máxima? ¿Cuántas de las conversiones se deben a individuos menores de 40 años? \n",
    "\n",
    "Habiendo respondido a esto, separa la población entre individuos de edad mayor (o igual) que la media e individuos menores, creando una nueva columna llamada `grupo_edad` con dos valores, `mayores` o `menores` en función de que pertenezcan a un grupo u otro. "
   ]
  },
  {
   "cell_type": "markdown",
   "metadata": {},
   "source": [
    "Abajo se incluye un código para realizar histogramas con los datos: si quieres hacer una representación gráfica, teniendo instalado el paquete `matplotlib` puedes visualizar los datos haciendo lo siguiente, sustituyendo dentro de `plt.hist`la columna del dataset que desees visualizar. Puedes probar a generar histogramas de las columnas que te puedan resultar interesantes.\n",
    "\n",
    "Usa el código anterior para hacer un histograma de conversiones totales, mostrando cuántas conversiones exitosas y fallidas hay en el dataset. ¿Qué pinta tiene el resultado? ¿Es de esperar? \n"
   ]
  },
  {
   "cell_type": "code",
   "execution_count": null,
   "metadata": {},
   "outputs": [],
   "source": [
    "'''\n",
    "Tu código va aquí \n",
    "'''"
   ]
  },
  {
   "cell_type": "markdown",
   "metadata": {},
   "source": [
    "(tu explicación va aquí)"
   ]
  },
  {
   "cell_type": "markdown",
   "metadata": {},
   "source": [
    "\n",
    "Para ganar mayor intuición con los datos, incluye un histograma de las conversiones exitosas en función del resto de columnas del dataset (país, edad, usuario nuevo, origen del usuario y número total de páginas visitadas anteriormente). ¿Hay alguno de las representaciones que te llame en especial la atención? Para hacer los histogramas solo necesitas introducir la columna que quieras pintar en el argumento de `plt.hist()`\n",
    "\n",
    "_Tip_: Recuerda usar la función `print()` para hacer que aparezcan varios resultados en un mismo bloque de código"
   ]
  },
  {
   "cell_type": "code",
   "execution_count": null,
   "metadata": {},
   "outputs": [],
   "source": [
    "\n",
    "# Código para generar un histograma (úsalo tantas veces como sea necesario)\n",
    "# Solamente hay que importar matplotlib una vez\n",
    "\n",
    "import matplotlib.pyplot as plt \n",
    "plt.hist( _______ , bins=20)   # Puedes cambiar las 'bins', lo cual cambia el número de barras en el plot\n",
    "plt.show()\n"
   ]
  },
  {
   "cell_type": "code",
   "execution_count": null,
   "metadata": {},
   "outputs": [],
   "source": [
    "'''\n",
    "Tu código va aquí\n",
    "'''"
   ]
  },
  {
   "cell_type": "markdown",
   "metadata": {},
   "source": [
    "#### Cuestión 4\n",
    "\n",
    "Ahora fijémonos en el número de páginas que ha visitado cada usuario anteriormente. ¿Cuántos individuos no han visitado ninguna página antes? ¿Cuál es el valor máximo de páginas visitadas? ¿Y la media? \n",
    "\n",
    "¿Aquellos usuarios que acceden a más de 10 páginas tienen un mayor ratio de conversión que el resto? Calcula el ratio como `número de conversiones en la población` / `número de personas en la población`. Para calcularlo, construye una función que reciba tres argumentos: el punto de corte (cuántas páginas consideramos para hacer la separación, incialmente 10), la columna del dataframe conteniendo la variable de las páginas visitadas por cada usuario y la columna de las conversiones. Dadas estas tres cosas, la función debe devolvernos el ratio definido anteriormente, el cual debe depender del punto de corte establecido. ¿Qué ratio se obtiene si ponemos el corte en 15 y en 20 en vez de en 10? "
   ]
  },
  {
   "cell_type": "code",
   "execution_count": null,
   "metadata": {},
   "outputs": [],
   "source": [
    "'''\n",
    "Tu código va aquí\n",
    "'''"
   ]
  },
  {
   "cell_type": "markdown",
   "metadata": {},
   "source": [
    "#### Cuestión 5\n",
    "\n",
    "Finalmente, ¿cuál es el país del que provienen más conversiones en términos absolutos? ¿Y si lo estimamos en términos relativos? (es decir `número de conversiones del país X` / `usuarios del país X`) "
   ]
  },
  {
   "cell_type": "code",
   "execution_count": null,
   "metadata": {},
   "outputs": [],
   "source": [
    "'''\n",
    "Tu código va aquí\n",
    "'''"
   ]
  },
  {
   "cell_type": "markdown",
   "metadata": {},
   "source": [
    "#### Cuestión 6\n",
    "\n",
    "Creemos una regla sobre las conversiones y veamos cómo de bien se ajusta a la realidad. Teniendo en cuenta la estructura de los datos, que hemos visto en la cuestión 2, tendremos que ser algo finos formulándola. \n",
    "\n",
    "\n",
    "Te propongo una regla de clasificación para comenzar y probar qué tal funciona: considera todos los países excepto China, usuarios menores de 30 años y que hayan visitado más de 15 páginas previamente. Establece que, para los usuarios que cumplen estas condiciones, se produce la conversión, y comprueba el porcentaje de acierto con respecto a las conversiones reales. ¿Cómo de bien lo estamos haciendo? ¿Es bueno o malo ese porcentaje de acierto?\n"
   ]
  },
  {
   "cell_type": "code",
   "execution_count": null,
   "metadata": {},
   "outputs": [],
   "source": [
    "# Función para evaluar el porcentaje de acierto\n",
    "\n",
    "def acierto(conv, conv_pred):\n",
    "    \n",
    "    # conv        :    conversión (o no) real del usuario\n",
    "    # conv_pred   :    predicción sobre la conversión del mismo usuario\n",
    "    \n",
    "    ac = sum(conv == conv_pred)*100/(len(conv))\n",
    "    return \"Porcentaje de acierto: \" + str(ac) + \"%\"\n"
   ]
  },
  {
   "cell_type": "code",
   "execution_count": null,
   "metadata": {},
   "outputs": [],
   "source": [
    "'''\n",
    "Tu código va aquí\n",
    "'''"
   ]
  },
  {
   "cell_type": "markdown",
   "metadata": {},
   "source": [
    "\n",
    "Para hacerte una idea más clara de cuál debería ser nuestro porcentaje de acierto base, haz una regla donde a *todos los usuarios se les clasifica como que **no** realizarán la conversión*. ¿Qué porcentaje de acierto tiene esta regla? ¿Qué te hace pensar respecto a la regla anterior?\n"
   ]
  },
  {
   "cell_type": "code",
   "execution_count": null,
   "metadata": {},
   "outputs": [],
   "source": [
    "'''\n",
    "Tu código va aquí\n",
    "'''"
   ]
  },
  {
   "cell_type": "markdown",
   "metadata": {},
   "source": [
    "\n",
    "Este conjunto de datos sufre de _skewed class labels_, es decir, presenta un gran sesgo en la clase que estamos prediciendo. Para lidiar con estos datos hay que tomar técnicas algo más refinadas a las que hemos visto, pero por el momento nos limitaremos a analizarlo con el conjunto de herramientas que tenemos a mano. Este es un problema bastante usual al tratar con cierto tipo de datos reales (la realidad es raramente tan sencilla como lo que hemos visto en clase, e incluso este caso es algo relativamente simple...)"
   ]
  },
  {
   "cell_type": "markdown",
   "metadata": {},
   "source": [
    "#### Cuestión 7\n",
    "\n",
    "(**_opcional_**)\n",
    "\n",
    "\n",
    "Preparemos el dataset para hacer análisis más complejos. Antes de continuar, debemos tratar los valores ausentes ¿Existen `NA`s en el dataset? Señala cuántos hay para cada columna. Dependiendo de la columna, imputa los valores  usando en este caso el método `most_frequent` tanto para valores numéricos como para categóricos."
   ]
  },
  {
   "cell_type": "code",
   "execution_count": null,
   "metadata": {},
   "outputs": [],
   "source": [
    "'''\n",
    "Tu código va aquí\n",
    "'''"
   ]
  },
  {
   "cell_type": "markdown",
   "metadata": {},
   "source": [
    "#### Cuestión 8\n",
    "\n",
    "(**_opcional_**)\n",
    "\n",
    "Usando solamente las variables numéricas, entrena un método de regresión lineal y comprueba por cross validation cómo de buena es tu predicción empleando 10 pliegues y el coeficiente $R^2$. Para ello, recuerda emplear la variable `converted` como objetivo. Opcionalmente, si quieres hacer pruebas más complejas, te recomiendo que pruebes otros métodos para clasificación algo más avanzados, como un árbol de decisión (`DecisionTreeClassifier`), _random forests_ (`RandomForestClassifier`) o máquinas de vector soporte (`svm`).  "
   ]
  },
  {
   "cell_type": "code",
   "execution_count": null,
   "metadata": {},
   "outputs": [],
   "source": [
    "## Definir los predictores (X) y la respuesta (y)\n",
    "\n",
    "### Definimos el modelo\n",
    "\n",
    "### Estimar el R2 por validación cruzada en 10 pliegues"
   ]
  },
  {
   "cell_type": "markdown",
   "metadata": {},
   "source": [
    "#### Cuestión 9\n",
    "\n",
    "(**_opcional_**)\n",
    "\n",
    "Realiza un modelado de los datos con un modelo lineal, pero en este caso teniendo en cuenta las variables categóricas también. Para ello, es conveniente el uso de la función `pipeline` de sklearn. \n",
    "\n",
    "Recuerda hacer el preprocesado de los datos, estandarizando las columnas numéricas y procesando las columnas categóricas para pasarlas al \"one-hot-encoding\". \n",
    "\n",
    "¿Ha mejorado respecto al modelo anterior? ¿Y respecto a las reglas simples de clasificación del ejercicio 6?"
   ]
  },
  {
   "cell_type": "code",
   "execution_count": null,
   "metadata": {},
   "outputs": [],
   "source": [
    "## Definir los predictores (X) y la respuesta (y)\n",
    "\n",
    "## Definir las columnas numéricas y las categóricas\n",
    "\n",
    "## Definir las operaciones a las variables categóricas\n",
    "\n",
    "## Concatenar las anteriores con las operaciones a variables numéricas\n",
    "\n",
    "## Definir la \"pipeline\", o bien realizamos el preprocesado a mano (¡CON MUCHO CUIDADO E INDICÁNDOLO TODO!)\n",
    "\n",
    "## Estimamos el error del modelo por validación cruzada, usando 10 pliegues"
   ]
  }
 ],
 "metadata": {
  "kernelspec": {
   "display_name": "Python 3",
   "language": "python",
   "name": "python3"
  },
  "language_info": {
   "codemirror_mode": {
    "name": "ipython",
    "version": 3
   },
   "file_extension": ".py",
   "mimetype": "text/x-python",
   "name": "python",
   "nbconvert_exporter": "python",
   "pygments_lexer": "ipython3",
   "version": "3.8.5"
  }
 },
 "nbformat": 4,
 "nbformat_minor": 2
}
