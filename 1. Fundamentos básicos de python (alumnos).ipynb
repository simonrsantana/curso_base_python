{
 "cells": [
  {
   "cell_type": "markdown",
   "metadata": {},
   "source": [
    "# Introducción a Python\n",
    "\n",
    "## Simón Rodríguez Santana\n",
    "\n",
    "En estas lecciones veremos los fundamentos básicos de python, un lenguaje muy flexible y con muchas posibilidades de aplicación a problemas enormemente diferentes. Lo que aprendamos podrá ser útil para otras muchas tareas, y aprenderlo bien puede facilitarnos mucho las cosas.\n",
    "\n",
    "Python es un lenguaje y, como tal, debemos aprender la base para poder hacer cosas más interesantes después. ¡En cuanto tengamos esto claro podremos hacer proyectos interesantes con los conjuntos de datos que tengamos!\n",
    "\n",
    "Por último, antes de comenzar, es importante recordar que se aprende python **usándolo y probándolo**, y especialmente **equivocándose**. No hay nada más recomendable que meterse a hacer comprobaciones e intentar aprender a hacer las cosas por uno mismo, y especialmente equivocarse se aprende muchísimo del uso de un lenguaje. En general todo suena más fácil cuando nos lo cuentan, pero al tratar con ello personalmente hay que intentar no frustrarse e ir asimilándolo todo con calma, porque aprender un lenguaje de programación es todo un proceso. Además, y como consejo breve, hay que recordar que Google es nuestro mejor amigo para la resolución de dudas y el tratamiento de errores, especialmente en plataformas como StackOverflow. \n",
    "\n",
    "¡Vamos a ello!"
   ]
  },
  {
   "cell_type": "markdown",
   "metadata": {},
   "source": [
    "### Variables y tipos de datos\n",
    "\n",
    " * En Python todos los elementos son objetos (se le considera un \"lenguaje orientado a objetos\")\n",
    " * Las variables no se declaran \n",
    " * El tipo de las mismas se detecta cuando se ejecuta el programa\n",
    " * Los tipos básicos son\n",
    "     - Booleano: `True` o `False` (binario o dicotómico)\n",
    "     - Numérico: entero (`int`/`long`), decimal (`float`) o número complejo (`complex`)\n",
    "     - Secuencias: cadenas de texto (`string`), tuplas (`tuple`) o listas (`list`)\n",
    "     - Otros: diccionarios (`dict`), conjuntos (`set`), etc.\n",
    " \n",
    "Los tipos de datos booleano y numéricos son inmutables, es decir, cada vez que hacemos una nueva asignación estamos creando un nuevo objeto."
   ]
  },
  {
   "cell_type": "code",
   "execution_count": 3,
   "metadata": {},
   "outputs": [
    {
     "name": "stdout",
     "output_type": "stream",
     "text": [
      "(5, True, 9.7, 'Hola')\n"
     ]
    }
   ],
   "source": [
    "# Los comentarios van con almohadillas\n",
    "a = 5\n",
    "b = True\n",
    "c = 9.7\n",
    "d = \"Hola\"   # Las cadenas tambien con comillas simples ' '\n",
    "\n",
    "print((a, b, c, d))"
   ]
  },
  {
   "cell_type": "code",
   "execution_count": 4,
   "metadata": {},
   "outputs": [
    {
     "data": {
      "text/plain": [
       "float"
      ]
     },
     "execution_count": 4,
     "metadata": {},
     "output_type": "execute_result"
    }
   ],
   "source": [
    "# Podemos ver el tipo de un objeto con la funcion type()\n",
    "type(4.5)"
   ]
  },
  {
   "cell_type": "code",
   "execution_count": 7,
   "metadata": {},
   "outputs": [
    {
     "data": {
      "text/plain": [
       "str"
      ]
     },
     "execution_count": 7,
     "metadata": {},
     "output_type": "execute_result"
    }
   ],
   "source": [
    "type(\"Hola\")"
   ]
  },
  {
   "cell_type": "code",
   "execution_count": 10,
   "metadata": {},
   "outputs": [
    {
     "data": {
      "text/plain": [
       "4"
      ]
     },
     "execution_count": 10,
     "metadata": {},
     "output_type": "execute_result"
    }
   ],
   "source": [
    "# Se puede convertir entre los distintos tipos de datos con las funciones\n",
    "# int(), str(), float(), tuple(), list(), etc.\n",
    "int(4.5)"
   ]
  },
  {
   "cell_type": "code",
   "execution_count": 11,
   "metadata": {},
   "outputs": [
    {
     "data": {
      "text/plain": [
       "'10'"
      ]
     },
     "execution_count": 11,
     "metadata": {},
     "output_type": "execute_result"
    }
   ],
   "source": [
    "str(10) # Lo convierte en una string de texto"
   ]
  },
  {
   "cell_type": "code",
   "execution_count": 14,
   "metadata": {},
   "outputs": [
    {
     "data": {
      "text/plain": [
       "4.5"
      ]
     },
     "execution_count": 14,
     "metadata": {},
     "output_type": "execute_result"
    }
   ],
   "source": [
    "float(\"4.5\") # Lo convierte, desde una string de texto, a un número real"
   ]
  },
  {
   "cell_type": "code",
   "execution_count": 15,
   "metadata": {},
   "outputs": [
    {
     "ename": "ValueError",
     "evalue": "could not convert string to float: 'Hola'",
     "output_type": "error",
     "traceback": [
      "\u001b[0;31m---------------------------------------------------------------------------\u001b[0m",
      "\u001b[0;31mValueError\u001b[0m                                Traceback (most recent call last)",
      "\u001b[0;32m<ipython-input-15-ee64065e0b2d>\u001b[0m in \u001b[0;36m<module>\u001b[0;34m\u001b[0m\n\u001b[0;32m----> 1\u001b[0;31m \u001b[0mfloat\u001b[0m\u001b[0;34m(\u001b[0m\u001b[0;34m\"Hola\"\u001b[0m\u001b[0;34m)\u001b[0m \u001b[0;31m# En este caso, la función no sabe interpretar cómo debe convertir la string, y falla\u001b[0m\u001b[0;34m\u001b[0m\u001b[0;34m\u001b[0m\u001b[0m\n\u001b[0m",
      "\u001b[0;31mValueError\u001b[0m: could not convert string to float: 'Hola'"
     ]
    }
   ],
   "source": [
    "float(\"Hola\") # En este caso, la función no sabe interpretar cómo debe convertir la string, y falla"
   ]
  },
  {
   "cell_type": "markdown",
   "metadata": {},
   "source": [
    "### Operaciones matemáticas básicas "
   ]
  },
  {
   "cell_type": "code",
   "execution_count": 16,
   "metadata": {},
   "outputs": [
    {
     "data": {
      "text/plain": [
       "7"
      ]
     },
     "execution_count": 16,
     "metadata": {},
     "output_type": "execute_result"
    }
   ],
   "source": [
    "5 + 2   # Suma"
   ]
  },
  {
   "cell_type": "code",
   "execution_count": 17,
   "metadata": {},
   "outputs": [
    {
     "data": {
      "text/plain": [
       "3"
      ]
     },
     "execution_count": 17,
     "metadata": {},
     "output_type": "execute_result"
    }
   ],
   "source": [
    "5 - 2   # Resta"
   ]
  },
  {
   "cell_type": "code",
   "execution_count": 18,
   "metadata": {},
   "outputs": [
    {
     "data": {
      "text/plain": [
       "10"
      ]
     },
     "execution_count": 18,
     "metadata": {},
     "output_type": "execute_result"
    }
   ],
   "source": [
    "5 * 2  # Multiplicacion"
   ]
  },
  {
   "cell_type": "code",
   "execution_count": 19,
   "metadata": {},
   "outputs": [
    {
     "data": {
      "text/plain": [
       "2.5"
      ]
     },
     "execution_count": 19,
     "metadata": {},
     "output_type": "execute_result"
    }
   ],
   "source": [
    "5 / 2  # División"
   ]
  },
  {
   "cell_type": "code",
   "execution_count": 20,
   "metadata": {},
   "outputs": [
    {
     "data": {
      "text/plain": [
       "2"
      ]
     },
     "execution_count": 20,
     "metadata": {},
     "output_type": "execute_result"
    }
   ],
   "source": [
    "5 // 2 # División aproximada al entero más cercano por abajo"
   ]
  },
  {
   "cell_type": "code",
   "execution_count": 21,
   "metadata": {},
   "outputs": [
    {
     "data": {
      "text/plain": [
       "1"
      ]
     },
     "execution_count": 21,
     "metadata": {},
     "output_type": "execute_result"
    }
   ],
   "source": [
    "5 % 2    # Resto (modulo)"
   ]
  },
  {
   "cell_type": "code",
   "execution_count": 22,
   "metadata": {},
   "outputs": [
    {
     "data": {
      "text/plain": [
       "25"
      ]
     },
     "execution_count": 22,
     "metadata": {},
     "output_type": "execute_result"
    }
   ],
   "source": [
    "5 ** 2   # Potencia ^"
   ]
  },
  {
   "cell_type": "code",
   "execution_count": 25,
   "metadata": {},
   "outputs": [
    {
     "data": {
      "text/plain": [
       "6"
      ]
     },
     "execution_count": 25,
     "metadata": {},
     "output_type": "execute_result"
    }
   ],
   "source": [
    "5 + True # Suma con booleanos"
   ]
  },
  {
   "cell_type": "markdown",
   "metadata": {},
   "source": [
    "### Cadenas (strings), listas y tuplas"
   ]
  },
  {
   "cell_type": "markdown",
   "metadata": {},
   "source": [
    "##### Cadenas\n",
    "* Las cadenas almacenan una secuencia de caracteres de texto (desde caracteres a palabras sueltas, o textos enteros)\n",
    "* Se escriben con comillas simples o dobles\n",
    "* Son inmutables (cada operación crea una cadena nueva)\n",
    "\n",
    "Combinaciones con operaciones básicas:"
   ]
  },
  {
   "cell_type": "code",
   "execution_count": 29,
   "metadata": {},
   "outputs": [
    {
     "ename": "TypeError",
     "evalue": "unsupported operand type(s) for +: 'int' and 'str'",
     "output_type": "error",
     "traceback": [
      "\u001b[0;31m---------------------------------------------------------------------------\u001b[0m",
      "\u001b[0;31mTypeError\u001b[0m                                 Traceback (most recent call last)",
      "\u001b[0;32m<ipython-input-29-adfc017eb33c>\u001b[0m in \u001b[0;36m<module>\u001b[0;34m\u001b[0m\n\u001b[0;32m----> 1\u001b[0;31m \u001b[0;36m5\u001b[0m \u001b[0;34m+\u001b[0m \u001b[0;34m\"Hola\"\u001b[0m\u001b[0;34m\u001b[0m\u001b[0;34m\u001b[0m\u001b[0m\n\u001b[0m",
      "\u001b[0;31mTypeError\u001b[0m: unsupported operand type(s) for +: 'int' and 'str'"
     ]
    }
   ],
   "source": [
    "5 + \"Hola\""
   ]
  },
  {
   "cell_type": "code",
   "execution_count": 30,
   "metadata": {},
   "outputs": [
    {
     "data": {
      "text/plain": [
       "'5Hola'"
      ]
     },
     "execution_count": 30,
     "metadata": {},
     "output_type": "execute_result"
    }
   ],
   "source": [
    "str(5) + \"Hola\""
   ]
  },
  {
   "cell_type": "code",
   "execution_count": 33,
   "metadata": {},
   "outputs": [
    {
     "data": {
      "text/plain": [
       "'HolaHolaHolaHolaHola'"
      ]
     },
     "execution_count": 33,
     "metadata": {},
     "output_type": "execute_result"
    }
   ],
   "source": [
    "5 * \"Hola\"  # Repetición"
   ]
  },
  {
   "cell_type": "code",
   "execution_count": 32,
   "metadata": {},
   "outputs": [
    {
     "data": {
      "text/plain": [
       "'Hola Adios'"
      ]
     },
     "execution_count": 32,
     "metadata": {},
     "output_type": "execute_result"
    }
   ],
   "source": [
    "\"Hola \" + \"Adios\"   # Concatenación"
   ]
  },
  {
   "cell_type": "code",
   "execution_count": 34,
   "metadata": {},
   "outputs": [
    {
     "name": "stdout",
     "output_type": "stream",
     "text": [
      "Cadena \"larga\" \n",
      " de dos lineas\n"
     ]
    }
   ],
   "source": [
    "s = 'Cadena \"larga\" \\n de dos lineas' # Las cadenas admiten operadores internos para hacerlas más complejas\n",
    "print(s)"
   ]
  },
  {
   "cell_type": "markdown",
   "metadata": {},
   "source": [
    "##### Listas\n",
    "Son muy flexibles, pueden contener elementos de diferentes tipos y permiten hacer indexing fácilmente\n",
    "* Las listas almacenan una secuencia de objetos de distintos tipos\n",
    "* Se representan con corchetes y sus elementos separados por comas\n",
    "* Mutables (se pueden cambiar sus elementos sin crear otra)"
   ]
  },
  {
   "cell_type": "code",
   "execution_count": 35,
   "metadata": {},
   "outputs": [
    {
     "data": {
      "text/plain": [
       "[1, 2, 3, 4, 5]"
      ]
     },
     "execution_count": 35,
     "metadata": {},
     "output_type": "execute_result"
    }
   ],
   "source": [
    "[1, 2, 3, 4, 5]  # lista de 5 elementos"
   ]
  },
  {
   "cell_type": "code",
   "execution_count": 36,
   "metadata": {},
   "outputs": [
    {
     "data": {
      "text/plain": [
       "[True, 'hola', 5.8]"
      ]
     },
     "execution_count": 36,
     "metadata": {},
     "output_type": "execute_result"
    }
   ],
   "source": [
    "[True, \"hola\", 5.8]  # Puede combinar elementos de distintos tipos"
   ]
  },
  {
   "cell_type": "code",
   "execution_count": 37,
   "metadata": {},
   "outputs": [
    {
     "data": {
      "text/plain": [
       "[[5, 6], 'adios', 7.8, [1, 2, 3]]"
      ]
     },
     "execution_count": 37,
     "metadata": {},
     "output_type": "execute_result"
    }
   ],
   "source": [
    "[[5, 6], \"adios\", 7.8, [1, 2, 3]]  # ...incluidos otras listas"
   ]
  },
  {
   "cell_type": "code",
   "execution_count": 38,
   "metadata": {},
   "outputs": [
    {
     "data": {
      "text/plain": [
       "[5, 6, 7, 8, 9]"
      ]
     },
     "execution_count": 38,
     "metadata": {},
     "output_type": "execute_result"
    }
   ],
   "source": [
    "[5, 6] + [7, 8, 9]  # Concatenación"
   ]
  },
  {
   "cell_type": "code",
   "execution_count": 39,
   "metadata": {},
   "outputs": [
    {
     "data": {
      "text/plain": [
       "[6, 7, 6, 7, 6, 7, 6, 7]"
      ]
     },
     "execution_count": 39,
     "metadata": {},
     "output_type": "execute_result"
    }
   ],
   "source": [
    "4 * [6, 7]  # Repeticion"
   ]
  },
  {
   "cell_type": "markdown",
   "metadata": {},
   "source": [
    "###### Tuplas\n",
    "Son secuencias de objetos de distinto tipo, también fácilmente indexables \n",
    "* Se representan con o sin paréntesis y sus elementos separados por comas\n",
    "* A diferencia de las listas, son **inmutables**"
   ]
  },
  {
   "cell_type": "code",
   "execution_count": 40,
   "metadata": {},
   "outputs": [
    {
     "data": {
      "text/plain": [
       "(4, 5, 6)"
      ]
     },
     "execution_count": 40,
     "metadata": {},
     "output_type": "execute_result"
    }
   ],
   "source": [
    "(4, 5, 6)"
   ]
  },
  {
   "cell_type": "code",
   "execution_count": 41,
   "metadata": {},
   "outputs": [
    {
     "data": {
      "text/plain": [
       "(4, 5, 6)"
      ]
     },
     "execution_count": 41,
     "metadata": {},
     "output_type": "execute_result"
    }
   ],
   "source": [
    "4, 5, 6  # También"
   ]
  },
  {
   "cell_type": "code",
   "execution_count": 42,
   "metadata": {},
   "outputs": [
    {
     "data": {
      "text/plain": [
       "(5,)"
      ]
     },
     "execution_count": 42,
     "metadata": {},
     "output_type": "execute_result"
    }
   ],
   "source": [
    "# Y la tupla con un solo elemento, una coma al final\n",
    "(5,)"
   ]
  },
  {
   "cell_type": "code",
   "execution_count": 43,
   "metadata": {},
   "outputs": [
    {
     "data": {
      "text/plain": [
       "()"
      ]
     },
     "execution_count": 43,
     "metadata": {},
     "output_type": "execute_result"
    }
   ],
   "source": [
    "()"
   ]
  },
  {
   "cell_type": "code",
   "execution_count": 44,
   "metadata": {},
   "outputs": [
    {
     "data": {
      "text/plain": [
       "(4, 5, 6, 7)"
      ]
     },
     "execution_count": 44,
     "metadata": {},
     "output_type": "execute_result"
    }
   ],
   "source": [
    "# Igual que las listas y cadenas, se pueden concatenar...\n",
    "(4, 5) + (6, 7)"
   ]
  },
  {
   "cell_type": "code",
   "execution_count": 45,
   "metadata": {},
   "outputs": [
    {
     "data": {
      "text/plain": [
       "(True, ['hola', 5], 3.2, True, ['hola', 5], 3.2)"
      ]
     },
     "execution_count": 45,
     "metadata": {},
     "output_type": "execute_result"
    }
   ],
   "source": [
    "# y repetir...\n",
    "2 * (True, [\"hola\", 5], 3.2)"
   ]
  },
  {
   "cell_type": "markdown",
   "metadata": {},
   "source": [
    "##### Operaciones\n",
    "\n",
    "Ya hemos visto que los operadores `+` y `*` en las secuencias implementan las operaciones de concatenar y repetir. Algunas otras operaciones sobre secuencias son:\n",
    "\n",
    "* `len`: longitud de una secuencia\n",
    "* `[]`: indexado de elementos por posición\n",
    "* `in`: pertenencia"
   ]
  },
  {
   "cell_type": "code",
   "execution_count": 48,
   "metadata": {},
   "outputs": [],
   "source": [
    "palabra = \"guitarra\"\n",
    "lista = [1, 2, 3, 4, 5, 6]\n",
    "tupla = (1, 2, [6, 12])"
   ]
  },
  {
   "cell_type": "code",
   "execution_count": 49,
   "metadata": {},
   "outputs": [
    {
     "ename": "TypeError",
     "evalue": "can only concatenate str (not \"list\") to str",
     "output_type": "error",
     "traceback": [
      "\u001b[0;31m---------------------------------------------------------------------------\u001b[0m",
      "\u001b[0;31mTypeError\u001b[0m                                 Traceback (most recent call last)",
      "\u001b[0;32m<ipython-input-49-9c653f77c732>\u001b[0m in \u001b[0;36m<module>\u001b[0;34m\u001b[0m\n\u001b[1;32m      1\u001b[0m \u001b[0;31m# No se pueden concatenar secuencias de distinto tipo\u001b[0m\u001b[0;34m\u001b[0m\u001b[0;34m\u001b[0m\u001b[0;34m\u001b[0m\u001b[0m\n\u001b[0;32m----> 2\u001b[0;31m \u001b[0mpalabra\u001b[0m \u001b[0;34m+\u001b[0m \u001b[0mlista\u001b[0m\u001b[0;34m\u001b[0m\u001b[0;34m\u001b[0m\u001b[0m\n\u001b[0m",
      "\u001b[0;31mTypeError\u001b[0m: can only concatenate str (not \"list\") to str"
     ]
    }
   ],
   "source": [
    "# No se pueden concatenar secuencias de distinto tipo\n",
    "palabra + lista"
   ]
  },
  {
   "cell_type": "code",
   "execution_count": 50,
   "metadata": {},
   "outputs": [
    {
     "name": "stdout",
     "output_type": "stream",
     "text": [
      "8\n",
      "6\n",
      "3\n"
     ]
    }
   ],
   "source": [
    "print(len(palabra))\n",
    "print(len(lista))\n",
    "print(len(tupla))"
   ]
  },
  {
   "cell_type": "code",
   "execution_count": 55,
   "metadata": {},
   "outputs": [
    {
     "data": {
      "text/plain": [
       "'a'"
      ]
     },
     "execution_count": 55,
     "metadata": {},
     "output_type": "execute_result"
    }
   ],
   "source": [
    "palabra[7]   # ¡Los índices hay que contarlos desde el 0, no desde el 1!"
   ]
  },
  {
   "cell_type": "code",
   "execution_count": 61,
   "metadata": {},
   "outputs": [
    {
     "ename": "IndexError",
     "evalue": "tuple index out of range",
     "output_type": "error",
     "traceback": [
      "\u001b[0;31m---------------------------------------------------------------------------\u001b[0m",
      "\u001b[0;31mIndexError\u001b[0m                                Traceback (most recent call last)",
      "\u001b[0;32m<ipython-input-61-5d539e0a1212>\u001b[0m in \u001b[0;36m<module>\u001b[0;34m\u001b[0m\n\u001b[0;32m----> 1\u001b[0;31m \u001b[0mtupla\u001b[0m\u001b[0;34m[\u001b[0m\u001b[0;36m3\u001b[0m\u001b[0;34m]\u001b[0m  \u001b[0;31m# De nuevo, atención a los índices\u001b[0m\u001b[0;34m\u001b[0m\u001b[0;34m\u001b[0m\u001b[0m\n\u001b[0m",
      "\u001b[0;31mIndexError\u001b[0m: tuple index out of range"
     ]
    }
   ],
   "source": [
    "tupla[3]  # De nuevo, atención a los índices"
   ]
  },
  {
   "cell_type": "code",
   "execution_count": 62,
   "metadata": {},
   "outputs": [
    {
     "data": {
      "text/plain": [
       "[6, 12]"
      ]
     },
     "execution_count": 62,
     "metadata": {},
     "output_type": "execute_result"
    }
   ],
   "source": [
    "tupla[2]"
   ]
  },
  {
   "cell_type": "code",
   "execution_count": 63,
   "metadata": {},
   "outputs": [
    {
     "data": {
      "text/plain": [
       "'a'"
      ]
     },
     "execution_count": 63,
     "metadata": {},
     "output_type": "execute_result"
    }
   ],
   "source": [
    "# Los indices negativos son relativos al final de la secuencia (¡no eliminan elementos!)\n",
    "palabra[-1]  # último elemento"
   ]
  },
  {
   "cell_type": "code",
   "execution_count": 64,
   "metadata": {},
   "outputs": [
    {
     "data": {
      "text/plain": [
       "4"
      ]
     },
     "execution_count": 64,
     "metadata": {},
     "output_type": "execute_result"
    }
   ],
   "source": [
    "lista[-3] # antepenúltimo elemento"
   ]
  },
  {
   "cell_type": "code",
   "execution_count": 68,
   "metadata": {},
   "outputs": [
    {
     "data": {
      "text/plain": [
       "'itarr'"
      ]
     },
     "execution_count": 68,
     "metadata": {},
     "output_type": "execute_result"
    }
   ],
   "source": [
    "# Se pueden indexar rangos con secuencias: \n",
    "# ¡¡El último elemento de la secuencia no se incluye!! (2, 3, 4, 5, 6)\n",
    "palabra[2:7]"
   ]
  },
  {
   "cell_type": "code",
   "execution_count": 74,
   "metadata": {},
   "outputs": [
    {
     "data": {
      "text/plain": [
       "'giar'"
      ]
     },
     "execution_count": 74,
     "metadata": {},
     "output_type": "execute_result"
    }
   ],
   "source": [
    "palabra[0:7:2]  # Elementos del 0 al 7 con un paso de 2 (0, 2, 4 y 6)"
   ]
  },
  {
   "cell_type": "code",
   "execution_count": 75,
   "metadata": {},
   "outputs": [
    {
     "data": {
      "text/plain": [
       "'giar'"
      ]
     },
     "execution_count": 75,
     "metadata": {},
     "output_type": "execute_result"
    }
   ],
   "source": [
    "# No poniendo ningún indice se indica que nos referimos al principio y al final de la secuencia\n",
    "palabra[::2]"
   ]
  },
  {
   "cell_type": "code",
   "execution_count": 76,
   "metadata": {},
   "outputs": [
    {
     "data": {
      "text/plain": [
       "[5, 6]"
      ]
     },
     "execution_count": 76,
     "metadata": {},
     "output_type": "execute_result"
    }
   ],
   "source": [
    "lista[4:]"
   ]
  },
  {
   "cell_type": "code",
   "execution_count": 77,
   "metadata": {},
   "outputs": [
    {
     "data": {
      "text/plain": [
       "(1, 2)"
      ]
     },
     "execution_count": 77,
     "metadata": {},
     "output_type": "execute_result"
    }
   ],
   "source": [
    "tupla[:2]"
   ]
  },
  {
   "cell_type": "code",
   "execution_count": 78,
   "metadata": {},
   "outputs": [
    {
     "data": {
      "text/plain": [
       "'arratiug'"
      ]
     },
     "execution_count": 78,
     "metadata": {},
     "output_type": "execute_result"
    }
   ],
   "source": [
    "# El paso tambien puede ser negativo\n",
    "palabra[::-1]"
   ]
  },
  {
   "cell_type": "code",
   "execution_count": 79,
   "metadata": {},
   "outputs": [
    {
     "data": {
      "text/plain": [
       "[1, 2, 3, 4, 5, 6]"
      ]
     },
     "execution_count": 79,
     "metadata": {},
     "output_type": "execute_result"
    }
   ],
   "source": [
    "lista"
   ]
  },
  {
   "cell_type": "code",
   "execution_count": 80,
   "metadata": {},
   "outputs": [
    {
     "data": {
      "text/plain": [
       "[1, 2, 3, 28, 5, 6]"
      ]
     },
     "execution_count": 80,
     "metadata": {},
     "output_type": "execute_result"
    }
   ],
   "source": [
    "# Las listas son mutables, por lo que podemos cambiar sus elementos mediante asignacion\n",
    "lista[3] = 28\n",
    "lista"
   ]
  },
  {
   "cell_type": "code",
   "execution_count": 81,
   "metadata": {},
   "outputs": [
    {
     "data": {
      "text/plain": [
       "[1, 2, 3, 28, 9, 10]"
      ]
     },
     "execution_count": 81,
     "metadata": {},
     "output_type": "execute_result"
    }
   ],
   "source": [
    "# Tambien podemos reemplazar varios elementos\n",
    "lista[4:6] = [9, 10]\n",
    "lista"
   ]
  },
  {
   "cell_type": "code",
   "execution_count": 84,
   "metadata": {},
   "outputs": [
    {
     "data": {
      "text/plain": [
       "[1, 28, 9, 10]"
      ]
     },
     "execution_count": 84,
     "metadata": {},
     "output_type": "execute_result"
    }
   ],
   "source": [
    "# Para borrar un elemento en concreto necesitamos hacer lo siguiente\n",
    "lista[1:2] = []\n",
    "lista"
   ]
  },
  {
   "cell_type": "code",
   "execution_count": 85,
   "metadata": {},
   "outputs": [
    {
     "data": {
      "text/plain": [
       "False"
      ]
     },
     "execution_count": 85,
     "metadata": {},
     "output_type": "execute_result"
    }
   ],
   "source": [
    "# \"in\" nos permite comprobar pertenencia \n",
    "[2, 3, 4] in lista"
   ]
  },
  {
   "cell_type": "code",
   "execution_count": 92,
   "metadata": {},
   "outputs": [
    {
     "data": {
      "text/plain": [
       "True"
      ]
     },
     "execution_count": 92,
     "metadata": {},
     "output_type": "execute_result"
    }
   ],
   "source": [
    "'tarr' in palabra"
   ]
  },
  {
   "cell_type": "code",
   "execution_count": 104,
   "metadata": {},
   "outputs": [
    {
     "data": {
      "text/plain": [
       "[1, 2, 3, 4, 5, 6, 7, 8, 9, 'hola', [1, 2, 3]]"
      ]
     },
     "execution_count": 104,
     "metadata": {},
     "output_type": "execute_result"
    }
   ],
   "source": [
    "lista_nueva = [1, 2, 3, 4, 5, 6, 7, 8, 9, \"hola\", [1, 2, 3]]\n",
    "lista_nueva"
   ]
  },
  {
   "cell_type": "code",
   "execution_count": 105,
   "metadata": {},
   "outputs": [
    {
     "data": {
      "text/plain": [
       "[1, 2, 3, 4, 5, 6, 7, 8, 9, [1, 2, 3]]"
      ]
     },
     "execution_count": 105,
     "metadata": {},
     "output_type": "execute_result"
    }
   ],
   "source": [
    "lista_nueva[9:10] = [] # Crear una lista con el elemento de índice 9 y vaciarla\n",
    "lista_nueva"
   ]
  },
  {
   "cell_type": "code",
   "execution_count": 106,
   "metadata": {},
   "outputs": [
    {
     "data": {
      "text/plain": [
       "[1, 2, 3, 4, 5, 6, 7, 8, 9]"
      ]
     },
     "execution_count": 106,
     "metadata": {},
     "output_type": "execute_result"
    }
   ],
   "source": [
    "lista_nueva[9:10] = []\n",
    "lista_nueva"
   ]
  },
  {
   "cell_type": "markdown",
   "metadata": {},
   "source": [
    "##### Métodos de cadenas\n",
    "\n",
    "Álgunos de los más útiles:\n",
    "* `str.find(sub[, start[, end]])` devuelve la primera posición de lo que buscamos o -1 sino está en la cadena\n",
    "* `str.strip([char])` devuelve una copia de la cadena eliminando los caracteres [char] del principio y del final\n",
    "* `str.split([sep[, maxsplit]])` devuelve una lista de subcadenas de str, usando sep como delimitador\n",
    "* `str.join(iterable)` devuelve una cadena que es la unión de todos los elementos de la secuencia usando la cadena inicial como delimitador\n",
    "* `str.replace(old, new[, count])` devuelve una copia de la cadena con las ocurrencias de old cambiadas por new\n",
    "* `str.format()` lo veremos más adelante\n",
    "\n",
    "Lista completa: https://docs.python.org/3/library/stdtypes.html#string-methods\n"
   ]
  },
  {
   "cell_type": "code",
   "execution_count": 107,
   "metadata": {},
   "outputs": [
    {
     "data": {
      "text/plain": [
       "2"
      ]
     },
     "execution_count": 107,
     "metadata": {},
     "output_type": "execute_result"
    }
   ],
   "source": [
    "'guitarra'.find('it')  # Comprueba si está la subcadena y nos da la posición"
   ]
  },
  {
   "cell_type": "code",
   "execution_count": 109,
   "metadata": {},
   "outputs": [
    {
     "data": {
      "text/plain": [
       "'      hola       '"
      ]
     },
     "execution_count": 109,
     "metadata": {},
     "output_type": "execute_result"
    }
   ],
   "source": [
    "'      hola       '"
   ]
  },
  {
   "cell_type": "code",
   "execution_count": 108,
   "metadata": {},
   "outputs": [
    {
     "data": {
      "text/plain": [
       "'hola'"
      ]
     },
     "execution_count": 108,
     "metadata": {},
     "output_type": "execute_result"
    }
   ],
   "source": [
    "'     hola     '.strip()"
   ]
  },
  {
   "cell_type": "code",
   "execution_count": 110,
   "metadata": {},
   "outputs": [
    {
     "data": {
      "text/plain": [
       "'prueba'"
      ]
     },
     "execution_count": 110,
     "metadata": {},
     "output_type": "execute_result"
    }
   ],
   "source": [
    "'www.prueba.com'.strip('wcom.')"
   ]
  },
  {
   "cell_type": "code",
   "execution_count": 111,
   "metadata": {},
   "outputs": [
    {
     "data": {
      "text/plain": [
       "'unication'"
      ]
     },
     "execution_count": 111,
     "metadata": {},
     "output_type": "execute_result"
    }
   ],
   "source": [
    "'www.communication.com'.strip(\"wcom.\") # ¡Hay que tener cuidado con .strip!"
   ]
  },
  {
   "cell_type": "code",
   "execution_count": 112,
   "metadata": {},
   "outputs": [
    {
     "data": {
      "text/plain": [
       "['a', 'b', 'c', 'd']"
      ]
     },
     "execution_count": 112,
     "metadata": {},
     "output_type": "execute_result"
    }
   ],
   "source": [
    "'a b c d'.split()"
   ]
  },
  {
   "cell_type": "code",
   "execution_count": 113,
   "metadata": {},
   "outputs": [
    {
     "data": {
      "text/plain": [
       "['a', 'b', '', 'c']"
      ]
     },
     "execution_count": 113,
     "metadata": {},
     "output_type": "execute_result"
    }
   ],
   "source": [
    "'a,b,,c'.split(',')"
   ]
  },
  {
   "cell_type": "code",
   "execution_count": 117,
   "metadata": {},
   "outputs": [
    {
     "data": {
      "text/plain": [
       "['www', 'communication', 'com']"
      ]
     },
     "execution_count": 117,
     "metadata": {},
     "output_type": "execute_result"
    }
   ],
   "source": [
    "'www.communication.com'.split(\".\")"
   ]
  },
  {
   "cell_type": "code",
   "execution_count": 118,
   "metadata": {},
   "outputs": [
    {
     "data": {
      "text/plain": [
       "'1-2-3'"
      ]
     },
     "execution_count": 118,
     "metadata": {},
     "output_type": "execute_result"
    }
   ],
   "source": [
    "'-'.join(['1', '2', '3'])"
   ]
  },
  {
   "cell_type": "code",
   "execution_count": 121,
   "metadata": {},
   "outputs": [
    {
     "data": {
      "text/plain": [
       "'a-b-c-d'"
      ]
     },
     "execution_count": 121,
     "metadata": {},
     "output_type": "execute_result"
    }
   ],
   "source": [
    "'a b c d'.replace(' ', '-')"
   ]
  },
  {
   "cell_type": "markdown",
   "metadata": {},
   "source": [
    "###### Métodos de listas\n",
    "\n",
    "* `s.append(x)`\tañade el elemento x al final de la lista\n",
    "* `s.extend(t)` añade los elementos de la secuencia t al final\n",
    "* `s.count(x)`\tdevuelve el numero de veces que aparece x en la lista\t \n",
    "* `s.index(x[, i[, j]])` devuelve el primer índice k donde se encuentra el elemento x, opcionalmente en un intervalo i <= k < j\n",
    "* `s.insert(i, x)`\tinserta el elemento x en la posición i\n",
    "* `s.pop([i])`\tdevuelve y elimina el elemento i de la lista. Por defecto es el último\n",
    "* `s.remove(x)`\telimina la primera aparición de x en la lista, error si no existte\n",
    "* `s.reverse()`\tinvierte el orden de los elementos\n",
    "* `s.sort([cmp[, key[, reverse]]])`\tordena los elementos"
   ]
  },
  {
   "cell_type": "code",
   "execution_count": 122,
   "metadata": {},
   "outputs": [
    {
     "data": {
      "text/plain": [
       "[1, True, 'cadena', -3, [5, 6]]"
      ]
     },
     "execution_count": 122,
     "metadata": {},
     "output_type": "execute_result"
    }
   ],
   "source": [
    "l = [1, True, \"cadena\", -3]\n",
    "l.append([5, 6])\n",
    "l"
   ]
  },
  {
   "cell_type": "code",
   "execution_count": 123,
   "metadata": {},
   "outputs": [
    {
     "data": {
      "text/plain": [
       "[1, True, 'cadena', -3, [5, 6], 5, 6]"
      ]
     },
     "execution_count": 123,
     "metadata": {},
     "output_type": "execute_result"
    }
   ],
   "source": [
    "l.extend([5, 6])\n",
    "l"
   ]
  },
  {
   "cell_type": "code",
   "execution_count": 124,
   "metadata": {},
   "outputs": [
    {
     "data": {
      "text/plain": [
       "[1, True, -3, [5, 6], 5, 6]"
      ]
     },
     "execution_count": 124,
     "metadata": {},
     "output_type": "execute_result"
    }
   ],
   "source": [
    "l.remove(\"cadena\")\n",
    "l"
   ]
  },
  {
   "cell_type": "code",
   "execution_count": 125,
   "metadata": {},
   "outputs": [
    {
     "ename": "TypeError",
     "evalue": "'<' not supported between instances of 'list' and 'int'",
     "output_type": "error",
     "traceback": [
      "\u001b[0;31m---------------------------------------------------------------------------\u001b[0m",
      "\u001b[0;31mTypeError\u001b[0m                                 Traceback (most recent call last)",
      "\u001b[0;32m<ipython-input-125-8b39c8a0f403>\u001b[0m in \u001b[0;36m<module>\u001b[0;34m\u001b[0m\n\u001b[0;32m----> 1\u001b[0;31m \u001b[0ml\u001b[0m\u001b[0;34m.\u001b[0m\u001b[0msort\u001b[0m\u001b[0;34m(\u001b[0m\u001b[0;34m)\u001b[0m \u001b[0;31m# l no es ordenable por el tipo de elementos que contiene\u001b[0m\u001b[0;34m\u001b[0m\u001b[0;34m\u001b[0m\u001b[0m\n\u001b[0m",
      "\u001b[0;31mTypeError\u001b[0m: '<' not supported between instances of 'list' and 'int'"
     ]
    }
   ],
   "source": [
    "l.sort() # l no es ordenable por el tipo de elementos que contiene"
   ]
  },
  {
   "cell_type": "code",
   "execution_count": 126,
   "metadata": {},
   "outputs": [
    {
     "data": {
      "text/plain": [
       "[-8, 0, 2, 5, 7, 12]"
      ]
     },
     "execution_count": 126,
     "metadata": {},
     "output_type": "execute_result"
    }
   ],
   "source": [
    "a = [2, 5, 12, 0, -8, 7]\n",
    "a.sort()\n",
    "a"
   ]
  },
  {
   "cell_type": "markdown",
   "metadata": {},
   "source": [
    "### Operadores booleanos y de comparación\n",
    "\n",
    "Todos los objetos tiene asociado un valor `True` o `False`. Los siguientes valores son considerados `False`:\n",
    "* `False`\n",
    "* Cero en cualquier tipo numérico, `0`, `0.0`, `0j`\n",
    "* Las secuencias vacias, `[]`, `()` y `''`\n",
    "\n",
    "Las operaciones booleanas son:\n",
    "* `x or y`\tDevuelve True si x o y son True, sino devuelve False\n",
    "* `x and y`\tDevuelve True si x e y son True, sino devuelve False\n",
    "* `not x`\t    Devuelve True si x es False y False si x es True\n",
    "\n",
    "También existen operadores que comparan dos objetos y devuelven un valor booleano:\n",
    "* `<`\t   estrictamente menor\n",
    "* `<=`     menor o igual\t \n",
    "* `>`\t   estrictamente mayor\t \n",
    "* `>=`     mayor o igual\t \n",
    "* `==`     igual\t \n",
    "* `!=`     distinto"
   ]
  },
  {
   "cell_type": "markdown",
   "metadata": {},
   "source": [
    "### Sentencias de control\n",
    "\n",
    "* Sirven para ejecutar un código u otro dependiendo de una condición\n",
    "* Los bloques de código vienen definidos por la indentación (¡cuidado con esto!)\n",
    "* Importantes los dos puntos (:)\n",
    "* No hacen falta paréntesis"
   ]
  },
  {
   "cell_type": "code",
   "execution_count": 130,
   "metadata": {},
   "outputs": [
    {
     "name": "stdout",
     "output_type": "stream",
     "text": [
      "Hola\n"
     ]
    }
   ],
   "source": [
    "if 4 < 5:\n",
    "    print(\"Hola\")   # Ojo con el indentado en estos casos\n",
    "else:\n",
    "    print(\"Adios\")"
   ]
  },
  {
   "cell_type": "code",
   "execution_count": 134,
   "metadata": {},
   "outputs": [
    {
     "data": {
      "text/plain": [
       "[1, 2, 10]"
      ]
     },
     "execution_count": 134,
     "metadata": {},
     "output_type": "execute_result"
    }
   ],
   "source": [
    "l = [1, 2, 3]\n",
    "\n",
    "if len(l) == 3:\n",
    "    l[2] = 10\n",
    "elif len(l) == 4:\n",
    "    l[3] = 20\n",
    "else:\n",
    "    l.append([4, 5, 6])\n",
    "    \n",
    "l                        # ¡Prueba a cambiar la definición de \"l\" y ver qué otros resultados obtienes aquí!"
   ]
  },
  {
   "cell_type": "code",
   "execution_count": 135,
   "metadata": {},
   "outputs": [
    {
     "ename": "ValueError",
     "evalue": "list.remove(x): x not in list",
     "output_type": "error",
     "traceback": [
      "\u001b[0;31m---------------------------------------------------------------------------\u001b[0m",
      "\u001b[0;31mValueError\u001b[0m                                Traceback (most recent call last)",
      "\u001b[0;32m<ipython-input-135-68f4822e4fff>\u001b[0m in \u001b[0;36m<module>\u001b[0;34m\u001b[0m\n\u001b[0;32m----> 1\u001b[0;31m \u001b[0ml\u001b[0m\u001b[0;34m.\u001b[0m\u001b[0mremove\u001b[0m\u001b[0;34m(\u001b[0m\u001b[0;36m3\u001b[0m\u001b[0;34m)\u001b[0m \u001b[0;31m# ¡Hay que recordar contar desde 0 los índices!\u001b[0m\u001b[0;34m\u001b[0m\u001b[0;34m\u001b[0m\u001b[0m\n\u001b[0m",
      "\u001b[0;31mValueError\u001b[0m: list.remove(x): x not in list"
     ]
    }
   ],
   "source": [
    "l.remove(3) # ¡Hay que recordar contar desde 0 los índices!"
   ]
  },
  {
   "cell_type": "code",
   "execution_count": 136,
   "metadata": {},
   "outputs": [
    {
     "data": {
      "text/plain": [
       "[1, 10]"
      ]
     },
     "execution_count": 136,
     "metadata": {},
     "output_type": "execute_result"
    }
   ],
   "source": [
    "l.remove(2)\n",
    "l"
   ]
  },
  {
   "cell_type": "code",
   "execution_count": 139,
   "metadata": {},
   "outputs": [
    {
     "data": {
      "text/plain": [
       "[2, 3]"
      ]
     },
     "execution_count": 139,
     "metadata": {},
     "output_type": "execute_result"
    }
   ],
   "source": [
    "l = [1, 2, 3]\n",
    "\n",
    "el = 1\n",
    "if el in l:\n",
    "    l.remove(el)\n",
    "\n",
    "l"
   ]
  },
  {
   "cell_type": "markdown",
   "metadata": {},
   "source": [
    "# ¿Cómo exprimimos todo lo anterior?\n",
    "\n",
    "Python es muy flexible y puede adaptarse a hacer muchas tareas. ¡Con lo que veremos a continuación podremos sacar mucho más rendimiento por fin!"
   ]
  },
  {
   "cell_type": "markdown",
   "metadata": {},
   "source": [
    "## Bucles\n",
    "\n",
    "Hay dos tipos:\n",
    "* `for`, que se ejecutan un número predeterminado de veces\n",
    "* `while`, que se ejecutan mientras se cumpla una condición\n",
    "\n",
    "Podemos combinar esto con los condicionales `if`-`else` para realizar operaciones en bucle de forma condicional."
   ]
  },
  {
   "cell_type": "code",
   "execution_count": 143,
   "metadata": {},
   "outputs": [
    {
     "name": "stdout",
     "output_type": "stream",
     "text": [
      "hola\n",
      "que\n",
      "tal\n"
     ]
    }
   ],
   "source": [
    "# Los bucles for iteran sobre los elementos de una secuencia\n",
    "for palabra in ['hola', 'que', 'tal']:\n",
    "    print(palabra) # Ojo con el indentado de nuevo"
   ]
  },
  {
   "cell_type": "code",
   "execution_count": 146,
   "metadata": {},
   "outputs": [
    {
     "name": "stdout",
     "output_type": "stream",
     "text": [
      "2 3 4 "
     ]
    }
   ],
   "source": [
    "i = 2\n",
    "while i < 5:\n",
    "    print(i, end=' ')\n",
    "    i = i + 1"
   ]
  },
  {
   "cell_type": "code",
   "execution_count": 147,
   "metadata": {},
   "outputs": [
    {
     "name": "stdout",
     "output_type": "stream",
     "text": [
      "s\n",
      "e\n",
      "m\n",
      "a\n",
      "n\n",
      "a\n"
     ]
    }
   ],
   "source": [
    "# Los bucles for pueden iterar sobre cualquier secuencia\n",
    "for letra in 'semana':\n",
    "    print(letra)"
   ]
  },
  {
   "cell_type": "markdown",
   "metadata": {},
   "source": [
    "**Hay que prestar especial atención al índice que recorre el bucle**"
   ]
  },
  {
   "cell_type": "code",
   "execution_count": 148,
   "metadata": {},
   "outputs": [
    {
     "data": {
      "text/plain": [
       "[0, 1, 2, 3, 4]"
      ]
     },
     "execution_count": 148,
     "metadata": {},
     "output_type": "execute_result"
    }
   ],
   "source": [
    "# Una función útil es range, que crea secuencias de números\n",
    "list(range(5))"
   ]
  },
  {
   "cell_type": "code",
   "execution_count": 149,
   "metadata": {
    "scrolled": true
   },
   "outputs": [
    {
     "data": {
      "text/plain": [
       "[1, 3, 5, 7, 9]"
      ]
     },
     "execution_count": 149,
     "metadata": {},
     "output_type": "execute_result"
    }
   ],
   "source": [
    "list(range(1, 10, 2)) # Saltos de 2 en 2"
   ]
  },
  {
   "cell_type": "code",
   "execution_count": 150,
   "metadata": {},
   "outputs": [
    {
     "name": "stdout",
     "output_type": "stream",
     "text": [
      "10 11 12 13 14 15 16 17 18 19 "
     ]
    }
   ],
   "source": [
    "for num in range(10, 20):\n",
    "    print(num, end=' ')       # El extra \" end='' \" es para que se imprima todo en la misma línea solamente"
   ]
  },
  {
   "cell_type": "code",
   "execution_count": 151,
   "metadata": {},
   "outputs": [
    {
     "name": "stdout",
     "output_type": "stream",
     "text": [
      "range(1, 10, 2)\n",
      "[1, 2, 3, 4, 5, 6, 7, 8, 9]\n"
     ]
    }
   ],
   "source": [
    "a = range(1, 10, 2)  # devuelve un objeto de tipo xrange\n",
    "b = list(range(1, 10))\n",
    "\n",
    "print(a)\n",
    "print(b)"
   ]
  },
  {
   "cell_type": "code",
   "execution_count": 152,
   "metadata": {},
   "outputs": [
    {
     "name": "stdout",
     "output_type": "stream",
     "text": [
      "10 11 12 13 14 15 16 17 18 19 "
     ]
    }
   ],
   "source": [
    "# al iterar sobre el objeto, se comporta como xrange\n",
    "for num in range(10, 20):\n",
    "    print(num, end=' ')"
   ]
  },
  {
   "cell_type": "code",
   "execution_count": 153,
   "metadata": {},
   "outputs": [
    {
     "name": "stdout",
     "output_type": "stream",
     "text": [
      "0 1\n",
      "1 5\n",
      "2 8\n"
     ]
    }
   ],
   "source": [
    "l = [1, 5, 8]\n",
    "for idx in range(len(l)):   # len() nos da la longitud del objeto \n",
    "    print(idx, l[idx])"
   ]
  },
  {
   "cell_type": "code",
   "execution_count": 154,
   "metadata": {},
   "outputs": [
    {
     "name": "stdout",
     "output_type": "stream",
     "text": [
      "0 1 2 3 4 5 6 6\n"
     ]
    }
   ],
   "source": [
    "# break termina el bucle\n",
    "for i in range(10):\n",
    "    print(i, end = \" \")\n",
    "    if i > 5:\n",
    "        break\n",
    "print(i)\n",
    "\n",
    "# ¿Por qué el resultado tiene un doble 6 al final?"
   ]
  },
  {
   "cell_type": "code",
   "execution_count": 155,
   "metadata": {},
   "outputs": [
    {
     "name": "stdout",
     "output_type": "stream",
     "text": [
      "0 1 2 3 4 5 9\n"
     ]
    }
   ],
   "source": [
    "# continue pasa a la siguiente iteración\n",
    "for i in range(10):\n",
    "    if i > 5:\n",
    "        continue\n",
    "    print(i, end = \" \")\n",
    "print(i)"
   ]
  },
  {
   "cell_type": "markdown",
   "metadata": {},
   "source": [
    "## Ejemplo: ¿Cuáles son primos?\n",
    "    \n",
    "Podemos emplear todo lo anterior en un ejemplo simple, como puede ser la búsqueda de números primos hasta un cierto número. Los números primos, recordemos, son aquellos números naturales que no tienen otro divisor más que sí mismos y 1, y por tanto, si calculamos su cociente con cualquier otro número natural, el resultado tendrá decimales. Por tanto, si el resto de la división es 0 (es decir, son exactamente divisibles), sabremos que el número en el numerador _no es primo_. Podemos sistematizar esto de una manera muy simple concatenando dos bucles `for` y un condicional `if` para evaluar cuándo el resto es cero:"
   ]
  },
  {
   "cell_type": "code",
   "execution_count": 157,
   "metadata": {
    "scrolled": true
   },
   "outputs": [
    {
     "name": "stdout",
     "output_type": "stream",
     "text": [
      "Primo 2\n",
      "Primo 3\n",
      "4 es 2 * 2.0\n",
      "Primo 5\n",
      "6 es 2 * 3.0\n",
      "Primo 7\n",
      "8 es 2 * 4.0\n",
      "9 es 3 * 3.0\n",
      "10 es 2 * 5.0\n",
      "Primo 11\n",
      "12 es 2 * 6.0\n",
      "Primo 13\n",
      "14 es 2 * 7.0\n",
      "15 es 3 * 5.0\n",
      "16 es 2 * 8.0\n",
      "Primo 17\n",
      "18 es 2 * 9.0\n",
      "Primo 19\n"
     ]
    }
   ],
   "source": [
    "for n in range(2, 20):                      # Barreremos los números hasta el 10, buscando los primos hasta ahí\n",
    "    for x in range(2, n):                   # Calculamos el cociente con cada otro número inferior \n",
    "        if n % x == 0:                      # Si el resto es cero, sabemos que el número en cuestión NO es primo\n",
    "            print(n, 'es', x, '*', n/x)     # Devolvemos la combinación que muestra que el número no es primo\n",
    "            break\n",
    "    # este else pertenece al bucle for\n",
    "    # se ejecuta si el bucle no ha terminado por un break\n",
    "    else:\n",
    "        print('Primo', n)                   # ¡Si no se ha encontrado un divisor exacto, el número es primo! "
   ]
  },
  {
   "cell_type": "markdown",
   "metadata": {},
   "source": [
    "#### List comprehensions\n",
    "\n",
    "Forma concisa de crear listas. Las listas son de los elementos más socorridos en python porque son tremendamente flexibles y fácilmente manipulables. \n",
    "\n",
    "Por ejemplo, para crear una lista con los cuadrados de los elementos podemos usar el método `append`, que es muy útil en muchas otras tareas:"
   ]
  },
  {
   "cell_type": "code",
   "execution_count": 158,
   "metadata": {},
   "outputs": [
    {
     "name": "stdout",
     "output_type": "stream",
     "text": [
      "[0, 1, 4, 9, 16, 25, 36, 49, 64, 81]\n"
     ]
    }
   ],
   "source": [
    "# forma de bucle\n",
    "squares = []\n",
    "for x in range(10):\n",
    "    squares.append(x**2)\n",
    "    \n",
    "print(squares)"
   ]
  },
  {
   "cell_type": "markdown",
   "metadata": {},
   "source": [
    "Para listas podemos escribir bucles `for` en una sola línea"
   ]
  },
  {
   "cell_type": "code",
   "execution_count": 159,
   "metadata": {},
   "outputs": [
    {
     "name": "stdout",
     "output_type": "stream",
     "text": [
      "[0, 1, 4, 9, 16, 25, 36, 49, 64, 81]\n"
     ]
    }
   ],
   "source": [
    "squares = [ x**2 for x in range(10) ]\n",
    "print(squares)"
   ]
  },
  {
   "cell_type": "code",
   "execution_count": 161,
   "metadata": {},
   "outputs": [
    {
     "name": "stdout",
     "output_type": "stream",
     "text": [
      "[0, 1, 4, 9, 16, 36, 49, 64, 81]\n"
     ]
    }
   ],
   "source": [
    "# tambien acepta cláusulas if\n",
    "squares = [ x**2 for x in range(10) if x != 5 ]\n",
    "print(squares)"
   ]
  },
  {
   "cell_type": "code",
   "execution_count": 166,
   "metadata": {},
   "outputs": [
    {
     "name": "stdout",
     "output_type": "stream",
     "text": [
      "[(1, 3), (1, 4), (2, 3), (2, 1), (2, 4), (3, 1), (3, 4)]\n"
     ]
    }
   ],
   "source": [
    "# y no está limitado a un único for\n",
    "combs = [ (x, y) for x in [1,2,3] for y in [3,1,4] if x != y ]\n",
    "print(combs)"
   ]
  },
  {
   "cell_type": "markdown",
   "metadata": {},
   "source": [
    "Y si lo combinamos todo, podemos hacer cosas como esta..."
   ]
  },
  {
   "cell_type": "code",
   "execution_count": 167,
   "metadata": {},
   "outputs": [
    {
     "name": "stdout",
     "output_type": "stream",
     "text": [
      "[(1, 3), (1, 4), (2, 3), (2, 1), (2, 4), (3, 1), (3, 4)]\n"
     ]
    }
   ],
   "source": [
    "combs = []\n",
    "for x in [1,2,3]:\n",
    "    for y in [3,1,4]:\n",
    "        if x != y:\n",
    "            combs.append((x, y))\n",
    "            \n",
    "print(combs)"
   ]
  },
  {
   "cell_type": "markdown",
   "metadata": {},
   "source": [
    "## Funciones\n",
    "\n",
    "Una función no es más que una tarea que diseñamos, la cual puede tomar (o no) ciertos valores de entrada y, tras una serie de operaciones, nos devuelve un resultado. Son muy convenientes cuando tenemos que aplicar la misma tarea varias veces o cuando queremos compartimentalizar nuestro código (suele ser una buena ir definiéndolo por trozos, con funciones que sepamos que van funcionando bien). \n",
    "\n",
    "La estructura básica de una función es la siguiente:"
   ]
  },
  {
   "cell_type": "code",
   "execution_count": 168,
   "metadata": {},
   "outputs": [
    {
     "data": {
      "text/plain": [
       "10"
      ]
     },
     "execution_count": 168,
     "metadata": {},
     "output_type": "execute_result"
    }
   ],
   "source": [
    "def mi_funcion(arg1, arg2):                # Definimos el nombre de la función y los argumentos de entrada\n",
    "                                           # Las triples comillas (dobles o simples) crean comentarios también\n",
    "    \"\"\" Esta función tiene dos argumentos       \n",
    "          * arg1\n",
    "          * arg2\n",
    "    \"\"\"                                    # Los comentarios en las comillas duran hasta que aparecen otras 3\n",
    "    \n",
    "    return arg1 + arg2                     # Devolvemos un resultado\n",
    "\n",
    "mi_funcion(4, 6)"
   ]
  },
  {
   "cell_type": "code",
   "execution_count": 169,
   "metadata": {},
   "outputs": [
    {
     "data": {
      "text/plain": [
       "(11, -1, 30)"
      ]
     },
     "execution_count": 169,
     "metadata": {},
     "output_type": "execute_result"
    }
   ],
   "source": [
    "# Si queremos devolver varios valores, podemos devolver una tupla, una lista o lo que sea más conveniente\n",
    "def operaciones(x, y):\n",
    "    return x+y, x-y, x*y  # Devolvemos una tupla\n",
    "\n",
    "ret = operaciones(5, 6)\n",
    "ret"
   ]
  },
  {
   "cell_type": "code",
   "execution_count": 171,
   "metadata": {},
   "outputs": [
    {
     "name": "stdout",
     "output_type": "stream",
     "text": [
      "13\n",
      "40\n"
     ]
    }
   ],
   "source": [
    "# Si no queremos un valor, podemos usar _\n",
    "suma, _, mult = operaciones(5, 8)\n",
    "print(suma)\n",
    "print(mult)"
   ]
  },
  {
   "cell_type": "markdown",
   "metadata": {},
   "source": [
    "Parámetros opcionales y valores por defecto:\n",
    "* Las funciones pueden tener uno o más parámetros opcionales\n",
    "* Tienen que ir después de los parámetros obligatorios (posicionales)\n",
    "* A la hora de llamar a la función se pueden omitir, ya que tienen un valor por defecto\n",
    "\n",
    "Parámetros con nombre:\n",
    "* Cada parámetro tiene un nombre\n",
    "* Si nos referimos por el nombre, podemos cambiar el orden de los parámetros en la llamada\n",
    "\n",
    "Más información: https://docs.python.org/3/tutorial/controlflow.html#more-on-defining-functions"
   ]
  },
  {
   "cell_type": "code",
   "execution_count": 172,
   "metadata": {},
   "outputs": [
    {
     "name": "stdout",
     "output_type": "stream",
     "text": [
      "Simón Rodríguez\n",
      "Simón Rodríguez\n",
      "Rodríguez Simón\n"
     ]
    }
   ],
   "source": [
    "def imprimir_nombre(nombre, apellido, reverse=False):\n",
    "    if reverse:\n",
    "        print(apellido, nombre)\n",
    "    else:\n",
    "        print(nombre, apellido)\n",
    "        \n",
    "imprimir_nombre('Simón', 'Rodríguez')\n",
    "imprimir_nombre(apellido='Rodríguez', reverse=False, nombre='Simón')\n",
    "imprimir_nombre('Simón', 'Rodríguez', reverse = True)"
   ]
  },
  {
   "cell_type": "markdown",
   "metadata": {},
   "source": [
    "Las funciones en Python son objetos de primer orden, es decir, es posible:\n",
    " * asignar funciones a variables\n",
    " * pasar funciones como argumentos a otras funciones\n",
    " * devolver funciones como retorno de otra función\n",
    "\n",
    "Más sobre funciones de primer orden: https://www.youtube.com/watch?v=kr0mpwqttM0\n",
    "\n",
    "Fuente: http://nbviewer.jupyter.org/github/ethen8181/machine-learning/blob/master/python/decorators/decorators.ipynb"
   ]
  },
  {
   "cell_type": "markdown",
   "metadata": {},
   "source": [
    "Podemos hacer cosas más complejas con las funciones, como las siguientes. Aquí no entraremos en detalle, pero se deja para que tengan un glosario de cosas que pueden hacerse en caso de que lo necesiten en algún otro momento"
   ]
  },
  {
   "cell_type": "code",
   "execution_count": 173,
   "metadata": {},
   "outputs": [
    {
     "name": "stdout",
     "output_type": "stream",
     "text": [
      "Hola Simón\n",
      "Hola Simón\n",
      "Hola Simón\n",
      "Hola Simón\n"
     ]
    }
   ],
   "source": [
    "############\n",
    "# OPCIONAL #\n",
    "############\n",
    "\n",
    "# se pueden asignar funciones a variables\n",
    "def saludar(nombre) :\n",
    "    return \"Hola \" + nombre\n",
    "\n",
    "func = saludar\n",
    "print(func(\"Simón\"))\n",
    "\n",
    "\n",
    "# se pueden definir funciones dentro de otras funciones\n",
    "def saludar(nombre) :\n",
    "    def mensaje() :\n",
    "        return \"Hola \"\n",
    "\n",
    "    res = mensaje() + nombre\n",
    "    return res\n",
    "\n",
    "print(saludar(\"Simón\")) \n",
    "\n",
    "\n",
    "# las funciones se pueden pasar como parametros a otras funciones\n",
    "def saludar(nombre):\n",
    "    return \"Hola \" + nombre\n",
    "\n",
    "def call_func(func):\n",
    "    otro_nombre = \"Simón\"\n",
    "    return func(otro_nombre)  \n",
    "\n",
    "print(call_func(saludar)) \n",
    "\n",
    "\n",
    "# las funciones pueden devolver otras funciones\n",
    "def componer_saludo(nombre):\n",
    "    def mensaje():\n",
    "        return \"Hola \" + nombre\n",
    "\n",
    "    return mensaje\n",
    "\n",
    "saludar = componer_saludo(\"Simón\")\n",
    "print(saludar())"
   ]
  },
  {
   "cell_type": "markdown",
   "metadata": {},
   "source": [
    "# Ejercicio: La desigualdad triangular\n",
    "\n",
    "Escribir una función que tome dos valores y que como salida nos devuelva la suma (x+y), la suma de los cuadrados (x^2 + y^2) y el cuadrado de la suma ((x+y)^2). Incluir una variable extra que, si es dada, nos devuelva la diferencia entre el cuadrado de la suma y la suma de los cuadrados"
   ]
  },
  {
   "cell_type": "code",
   "execution_count": 174,
   "metadata": {},
   "outputs": [
    {
     "ename": "NameError",
     "evalue": "name '_____' is not defined",
     "output_type": "error",
     "traceback": [
      "\u001b[0;31m---------------------------------------------------------------------------\u001b[0m",
      "\u001b[0;31mNameError\u001b[0m                                 Traceback (most recent call last)",
      "\u001b[0;32m<ipython-input-174-310eae925f10>\u001b[0m in \u001b[0;36m<module>\u001b[0;34m\u001b[0m\n\u001b[1;32m     14\u001b[0m \u001b[0;34m\u001b[0m\u001b[0m\n\u001b[1;32m     15\u001b[0m \u001b[0;34m\u001b[0m\u001b[0m\n\u001b[0;32m---> 16\u001b[0;31m \u001b[0mprint\u001b[0m\u001b[0;34m(\u001b[0m\u001b[0;34m\"Sin la diferencia, esto sale \"\u001b[0m\u001b[0;34m,\u001b[0m \u001b[0mdesigualdad_triangular\u001b[0m\u001b[0;34m(\u001b[0m\u001b[0;36m2\u001b[0m\u001b[0;34m,\u001b[0m \u001b[0;36m3\u001b[0m\u001b[0;34m)\u001b[0m\u001b[0;34m)\u001b[0m\u001b[0;34m\u001b[0m\u001b[0;34m\u001b[0m\u001b[0m\n\u001b[0m\u001b[1;32m     17\u001b[0m \u001b[0;34m\u001b[0m\u001b[0m\n\u001b[1;32m     18\u001b[0m \u001b[0mprint\u001b[0m\u001b[0;34m(\u001b[0m\u001b[0;34m\"Con la diferencia da \"\u001b[0m\u001b[0;34m,\u001b[0m \u001b[0mdesigualdad_triangular\u001b[0m\u001b[0;34m(\u001b[0m\u001b[0;36m2\u001b[0m\u001b[0;34m,\u001b[0m \u001b[0;36m3\u001b[0m\u001b[0;34m,\u001b[0m \u001b[0mdiferencia\u001b[0m \u001b[0;34m=\u001b[0m \u001b[0;32mTrue\u001b[0m\u001b[0;34m)\u001b[0m \u001b[0;34m)\u001b[0m\u001b[0;34m\u001b[0m\u001b[0;34m\u001b[0m\u001b[0m\n",
      "\u001b[0;32m<ipython-input-174-310eae925f10>\u001b[0m in \u001b[0;36mdesigualdad_triangular\u001b[0;34m(x1, x2, diferencia)\u001b[0m\n\u001b[1;32m      4\u001b[0m     \u001b[0;31m# diferencia : booleano que nos indica si calcular la diferencia o no\u001b[0m\u001b[0;34m\u001b[0m\u001b[0;34m\u001b[0m\u001b[0;34m\u001b[0m\u001b[0m\n\u001b[1;32m      5\u001b[0m \u001b[0;34m\u001b[0m\u001b[0m\n\u001b[0;32m----> 6\u001b[0;31m     \u001b[0msuma\u001b[0m \u001b[0;34m=\u001b[0m \u001b[0m_____\u001b[0m\u001b[0;34m\u001b[0m\u001b[0;34m\u001b[0m\u001b[0m\n\u001b[0m\u001b[1;32m      7\u001b[0m     \u001b[0msuma_cuadrados\u001b[0m \u001b[0;34m=\u001b[0m \u001b[0m_____\u001b[0m\u001b[0;34m\u001b[0m\u001b[0;34m\u001b[0m\u001b[0m\n\u001b[1;32m      8\u001b[0m     \u001b[0mcuadrado_suma\u001b[0m \u001b[0;34m=\u001b[0m \u001b[0m_____\u001b[0m\u001b[0;34m\u001b[0m\u001b[0;34m\u001b[0m\u001b[0m\n",
      "\u001b[0;31mNameError\u001b[0m: name '_____' is not defined"
     ]
    }
   ],
   "source": [
    "def desigualdad_triangular(x1, x2, diferencia = False):\n",
    "    # x1         : Primer valor de entrada\n",
    "    # x2         : Segundo valor de entrada\n",
    "    # diferencia : booleano que nos indica si calcular la diferencia o no\n",
    "    \n",
    "    suma = _____\n",
    "    suma_cuadrados = _____\n",
    "    cuadrado_suma = _____\n",
    "    \n",
    "    if _______ :\n",
    "        return _______\n",
    "    else:\n",
    "        return _______\n",
    "    \n",
    "    \n",
    "print(\"Sin la diferencia, esto sale \", desigualdad_triangular(2, 3))\n",
    "\n",
    "print(\"Con la diferencia da \", desigualdad_triangular(2, 3, diferencia = True) )\n",
    "\n",
    "\n",
    "'''\n",
    "Si todo es correcto, el resultado de ejecutar este código debe ser:\n",
    "\n",
    "Sin la diferencia, esto sale  (5, 13, 25)\n",
    "Con la diferencia da  (5, 13, 25, 12)\n",
    "\n",
    "'''"
   ]
  },
  {
   "cell_type": "markdown",
   "metadata": {},
   "source": [
    "### Lectura y escritura en archivos (OPCIONAL)\n",
    "\n",
    "Para importar datos en nuestros programas, lo más común es usar ficheros de texto. La función `open()` toma como parámetro el nombre del fichero y el modo en que será accedido y devuelve un objeto de tipo `file` sobre el que podemos hacer operaciones. Las más comunes son:\n",
    "\n",
    "* `f.read(size)` Lectura de los siguientes size bytes\n",
    "* `f.read()` Devuelve un string con el contenido de todo el fichero\n",
    "* `f.readline()` Devuelve un string con la siguiente línea en el fichero (incluye \\n)\n",
    "* `f.readlines()` Devuelve un lista de strings con cada línea del fichero\n",
    "* `f.write(string)` Escribe la cadena pasada como parámetro en el fichero\n",
    "* `f.write(S)` Escribe cada una de las cadenas en la lista S como líneas del fichero\n",
    "* `f.close()` \"Cierra\" el fichero\n",
    "\n",
    "Modos de acceso:\n",
    "* 'r': Solo lectura (valor por defecto si no se especifica el modo de acceso)\n",
    "* 'w': Solo escritura (si ya existe un fichero con el mismo nombre, su contenido se borrará).\n",
    "* 'a': Appending. Escritura al final del fichero.\n",
    "* 'r+': Para lectura y escritura.\n",
    "* 'rb','wb','ab': Para trabajar con ficheros binarios.\n",
    "\n",
    "Más información: https://docs.python.org/3/tutorial/inputoutput.html  \n",
    "Objetos `file`: https://docs.python.org/3/library/stdtypes.html#bltin-file-objects\n",
    "\n",
    "\n",
    "\n",
    "**Lo veremos mejor cuando usemos Pandas**, pero así tendrán varias formas de hacer tareas similares"
   ]
  },
  {
   "cell_type": "code",
   "execution_count": 175,
   "metadata": {},
   "outputs": [],
   "source": [
    "f = open('prueba.txt', 'w')   # Abrimos el archivo, para escribir en él (w)"
   ]
  },
  {
   "cell_type": "code",
   "execution_count": 176,
   "metadata": {},
   "outputs": [],
   "source": [
    "f.write(\"     hola     \")  # Escribimos en él\n",
    "f.write(\"\\n\")    # Pasamos a la siguiente línea\n",
    "f.write(\"adios\") # Escribimos de nuevo\n",
    "f.close()        # Cerramos el archivo después de la escritura"
   ]
  },
  {
   "cell_type": "code",
   "execution_count": 177,
   "metadata": {
    "run_control": {
     "marked": false
    }
   },
   "outputs": [
    {
     "name": "stdout",
     "output_type": "stream",
     "text": [
      "     hola     \n",
      "\n",
      "adios\n"
     ]
    }
   ],
   "source": [
    "f = open('prueba.txt', 'r') # Abrimos de nuevo el archivo, pero ahora para leerlo solamente (r)\n",
    "\n",
    "a = f.readlines()           # Leemos las líneas\n",
    "\n",
    "for line in a:              # Imprimimos el contenido\n",
    "    print(line)\n"
   ]
  },
  {
   "cell_type": "code",
   "execution_count": 178,
   "metadata": {},
   "outputs": [
    {
     "data": {
      "text/plain": [
       "'hola'"
      ]
     },
     "execution_count": 178,
     "metadata": {},
     "output_type": "execute_result"
    }
   ],
   "source": [
    "a[0].strip()    # Limpiamos la primera línea"
   ]
  },
  {
   "cell_type": "markdown",
   "metadata": {},
   "source": [
    "## Módulos\n",
    "\n",
    "Se cargan con `import`. Los módulos nos permiten incluir funcionalidades que ya están definidas en python, lo cual nos simplificará enormemente la vida\n",
    "\n",
    "Ejemplo: módulo `sys`, que contiene funciones que dependen del intérprete\n",
    "\n",
    "Librería Estándar de Python: https://docs.python.org/3.8/library/index.html\n",
    "\n",
    "**¡Esto es fundamental!** Los módulos nos van a ayudar a hacer muchísimas otras cosas, con lo que aprender sus funcionalidades es muy necesario para sacar el máximo partido a python"
   ]
  },
  {
   "cell_type": "code",
   "execution_count": 182,
   "metadata": {},
   "outputs": [
    {
     "name": "stdout",
     "output_type": "stream",
     "text": [
      "['/usr/lib/python3/dist-packages/ipykernel_launcher.py', '-f', '/home/simon/.local/share/jupyter/runtime/kernel-10a91aab-e407-46df-a9b1-8b10da316c86.json']\n"
     ]
    }
   ],
   "source": [
    "import sys\n",
    "import sys as sistema\n",
    "from numpy import array\n",
    "import numpy as np\n",
    "\n",
    "print(sistema.argv)"
   ]
  },
  {
   "cell_type": "markdown",
   "metadata": {},
   "source": [
    "### Diccionarios\n",
    "\n",
    "Tipo básico de Python que se utiliza para almacenar pares clave-valor. Las claves pueden ser cualquier tipo de dato inmutable, generalmente enteros o cadenas. Las claves tienen que ser únicas dentro de un mismo diccionario, y si se almacena un dato con una clave ya existente se sobreescribe su valor. Los diccionarios mantienen el orden en el que se insertan los elementos.\n",
    "\n",
    "Tutorial: https://www.tutorialspoint.com/python/python_dictionary.htm  \n",
    "Tutorial (\"oficial\"): https://docs.python.org/3/tutorial/datastructures.html#dictionaries  \n",
    "Referencia: https://docs.python.org/3/library/stdtypes.html#typesmapping"
   ]
  },
  {
   "cell_type": "code",
   "execution_count": 187,
   "metadata": {},
   "outputs": [
    {
     "name": "stdout",
     "output_type": "stream",
     "text": [
      "10\n"
     ]
    }
   ],
   "source": [
    "# los diccionarios se pueden crear directamente con llaves {}\n",
    "notas = {'Juan': 10, 'Maria': 8, 'Luis': 5} \n",
    "\n",
    "# tambien se pueden crear a partir de una lista de tuplas\n",
    "notas = dict([ ('Juan', 10), ('Luis', 6), ('Maria', 8) ])\n",
    "\n",
    "# acceder a elementos del diccionario\n",
    "print(notas['Juan'])"
   ]
  },
  {
   "cell_type": "code",
   "execution_count": 188,
   "metadata": {},
   "outputs": [
    {
     "name": "stdout",
     "output_type": "stream",
     "text": [
      "{'Juan': 9, 'Luis': 6, 'Maria': 8, 'Alberto': 6}\n"
     ]
    }
   ],
   "source": [
    "notas['Juan'] = 9     # actualiza su valor en el diccionario\n",
    "notas['Alberto'] = 6  # añade el elemento\n",
    "print(notas)"
   ]
  },
  {
   "cell_type": "code",
   "execution_count": 189,
   "metadata": {},
   "outputs": [
    {
     "data": {
      "text/plain": [
       "{'Juan': 9, 'Luis': 6, 'Maria': 8, 'Alberto': 6, 'Ana': 4.5}"
      ]
     },
     "execution_count": 189,
     "metadata": {},
     "output_type": "execute_result"
    }
   ],
   "source": [
    "notas['Ana'] = 4.5\n",
    "notas"
   ]
  },
  {
   "cell_type": "code",
   "execution_count": 190,
   "metadata": {},
   "outputs": [
    {
     "name": "stdout",
     "output_type": "stream",
     "text": [
      "{'Juan': 9, 'Maria': 8, 'Alberto': 6, 'Ana': 4.5}\n"
     ]
    }
   ],
   "source": [
    "# la sentencia del elimina entradas del diccionario\n",
    "del notas['Luis']\n",
    "print(notas)"
   ]
  },
  {
   "cell_type": "code",
   "execution_count": 191,
   "metadata": {},
   "outputs": [
    {
     "name": "stdout",
     "output_type": "stream",
     "text": [
      "['Juan', 'Maria', 'Alberto', 'Ana']\n",
      "[9, 8, 6, 4.5]\n",
      "[('Juan', 9), ('Maria', 8), ('Alberto', 6), ('Ana', 4.5)]\n",
      "Juan 9\n",
      "Maria 8\n",
      "Alberto 6\n",
      "Ana 4.5\n"
     ]
    }
   ],
   "source": [
    "# Algunos de los métodos mas usados\n",
    "print(list(notas.keys()))\n",
    "print(list(notas.values()))\n",
    "print(list(notas.items()))\n",
    "\n",
    "# por defecto, se itera solo por las claves del diccionario\n",
    "for key in notas:\n",
    "    print(key, notas[key])"
   ]
  },
  {
   "cell_type": "markdown",
   "metadata": {},
   "source": [
    "## Ejecutar scripts python\n",
    "\n",
    "Para ejecutar un fichero con código Python basta con abrir una terminal y escribir: \n",
    "\n",
    "`python script.py`\n",
    "\n",
    "Además, se le pueden pasar argumentos de entrada al programa que serán accesibles a través del módulo `sys`."
   ]
  },
  {
   "cell_type": "markdown",
   "metadata": {
    "collapsed": true
   },
   "source": [
    "##### Medir tiempo de ejecución (OPCIONAL)\n",
    "\n",
    "El módulo `timeit` nos permite medir el tiempo de ejecución del código Python. En Jupyter notebook existe el \"comando mágico\" `%%timeit`, que mide el tiempo de ejecución de una celda de código.\n",
    "\n",
    "Más información sobre \"comandos mágicos\": http://ipython.readthedocs.io/en/stable/interactive/magics.html"
   ]
  },
  {
   "cell_type": "code",
   "execution_count": 192,
   "metadata": {},
   "outputs": [
    {
     "name": "stdout",
     "output_type": "stream",
     "text": [
      "412 ms ± 17.1 ms per loop (mean ± std. dev. of 7 runs, 1 loop each)\n"
     ]
    }
   ],
   "source": [
    "%%timeit \n",
    "s = 0\n",
    "for a in range(10000000):\n",
    "    s += a"
   ]
  }
 ],
 "metadata": {
  "kernelspec": {
   "display_name": "Python 3",
   "language": "python",
   "name": "python3"
  },
  "language_info": {
   "codemirror_mode": {
    "name": "ipython",
    "version": 3
   },
   "file_extension": ".py",
   "mimetype": "text/x-python",
   "name": "python",
   "nbconvert_exporter": "python",
   "pygments_lexer": "ipython3",
   "version": "3.8.5"
  }
 },
 "nbformat": 4,
 "nbformat_minor": 4
}
